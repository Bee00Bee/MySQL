{
 "cells": [
  {
   "cell_type": "markdown",
   "id": "db525b57-14ae-4483-8387-c96edc07bbe8",
   "metadata": {},
   "source": [
    "# MySQL\n",
    "\n",
    "Connect to MySQL using the created credentials. The host is defined as $localhost$ and the user as $user$ and password as $password$"
   ]
  },
  {
   "cell_type": "code",
   "execution_count": null,
   "id": "57634542-c381-410a-9299-f6b14873e272",
   "metadata": {
    "tags": []
   },
   "outputs": [],
   "source": [
    "import mysql.connector\n",
    "\n",
    "print(mysql.connector.__version__)\n",
    "\n",
    "mydb=mysql.connector.connect(\n",
    "    host='localhost',\n",
    "    user='user',\n",
    "    password='password'\n",
    ")\n",
    "\n",
    "print(mydb)\n",
    "\n",
    "cursor=mydb.cursor()\n",
    "\n",
    "cursor.execute(\"CREATE DATABASE test\")"
   ]
  },
  {
   "cell_type": "code",
   "execution_count": 1,
   "id": "ac7182ba-644d-414b-8614-9a3dd4ffc955",
   "metadata": {
    "tags": []
   },
   "outputs": [
    {
     "name": "stdout",
     "output_type": "stream",
     "text": [
      "('information_schema',)\n",
      "('mysql',)\n",
      "('performance_schema',)\n",
      "('sys',)\n",
      "('test',)\n"
     ]
    }
   ],
   "source": [
    "import mysql.connector\n",
    "\n",
    "mydb=mysql.connector.connect(\n",
    "    host='localhost',\n",
    "    user='user',\n",
    "    password='password'\n",
    ")\n",
    "cursor=mydb.cursor()\n",
    "cursor.execute(\"SHOW DATABASES\")\n",
    "\n",
    "for i in cursor:\n",
    "    print(i)"
   ]
  },
  {
   "cell_type": "code",
   "execution_count": 3,
   "id": "926aef0a-4748-42b4-8f92-611ae1b857d9",
   "metadata": {
    "tags": []
   },
   "outputs": [],
   "source": [
    "mydb=mysql.connector.connect(\n",
    "    host='localhost',\n",
    "    user='user',\n",
    "    password='password',\n",
    "    database='test'\n",
    ")\n",
    "\n",
    "\n",
    "cursor=mydb.cursor()\n",
    "\n",
    "#cursor.execute(\"DROP TABLE members\")\n",
    "cursor.execute(\"DROP TABLE companies\")"
   ]
  },
  {
   "cell_type": "code",
   "execution_count": 4,
   "id": "7093b609-5490-47cd-addb-2542c00ce678",
   "metadata": {
    "tags": []
   },
   "outputs": [
    {
     "name": "stdout",
     "output_type": "stream",
     "text": [
      "<mysql.connector.connection_cext.CMySQLConnection object at 0x7fa160067df0>\n",
      "('companies',)\n",
      "('members',)\n"
     ]
    }
   ],
   "source": [
    "mydb=mysql.connector.connect(\n",
    "    host='localhost',\n",
    "    user='user',\n",
    "    password='password',\n",
    "    database='test'\n",
    ")\n",
    "\n",
    "print(mydb)\n",
    "\n",
    "cursor=mydb.cursor()\n",
    "\n",
    "cursor.execute(\"CREATE TABLE members (id INT AUTO_INCREMENT PRIMARY KEY, name VARCHAR(20), last_name VARCHAR(20), address VARCHAR(30))\")\n",
    "cursor.execute(\"CREATE TABLE companies (id INT AUTO_INCREMENT PRIMARY KEY, company_name VARCHAR(30), name VARCHAR(20), last_name VARCHAR(20), position VARCHAR(30), salary VARCHAR(30) )\")\n",
    "\n",
    "cursor.execute(\"SHOW TABLES\")\n",
    "\n",
    "for x in cursor:\n",
    "    print(x)"
   ]
  },
  {
   "cell_type": "code",
   "execution_count": 5,
   "id": "4e7337de-13db-43d3-8ba6-360da7f93d91",
   "metadata": {
    "tags": []
   },
   "outputs": [],
   "source": [
    "def insert_members_info(db_name, name, last_name, address):\n",
    "    \n",
    "    mydb=mysql.connector.connect(\n",
    "                                host='localhost',\n",
    "                                user='user',\n",
    "                                password='password',\n",
    "                                database=db_name\n",
    "                                )\n",
    "    cursor=mydb.cursor()\n",
    "    \n",
    "    sql=\"INSERT INTO members (name, last_name, address) VALUES (%s, %s, %s)\"\n",
    "    vals=(name, last_name, address)\n",
    "    cursor.execute(sql, vals)\n",
    "    \n",
    "    mydb.commit()\n",
    "    \n",
    "    print(cursor.rowcount, \"The records are inserted, with this id\", cursor.lastrowid)\n",
    "    \n",
    "    \n",
    "def insert_company_info(db_name, company_name, name, last_name, position, salary):\n",
    "    \n",
    "    mydb=mysql.connector.connect(\n",
    "                                host='localhost',\n",
    "                                user='user',\n",
    "                                password='password',\n",
    "                                database=db_name\n",
    "                                )\n",
    "    cursor=mydb.cursor()\n",
    "    \n",
    "    sql=\"INSERT INTO companies (company_name, name, last_name, position, salary) VALUES (%s, %s, %s, %s, %s)\"\n",
    "    vals=(company_name, name, last_name, position, salary)\n",
    "    cursor.execute(sql, vals)\n",
    "    \n",
    "    mydb.commit()\n",
    "    \n",
    "    print(cursor.rowcount, \"The records are inserted, with this id\", cursor.lastrowid)"
   ]
  },
  {
   "cell_type": "code",
   "execution_count": 6,
   "id": "229e3ddc-4c48-4935-a634-4a22e659944d",
   "metadata": {
    "tags": []
   },
   "outputs": [
    {
     "data": {
      "text/html": [
       "<div>\n",
       "<style scoped>\n",
       "    .dataframe tbody tr th:only-of-type {\n",
       "        vertical-align: middle;\n",
       "    }\n",
       "\n",
       "    .dataframe tbody tr th {\n",
       "        vertical-align: top;\n",
       "    }\n",
       "\n",
       "    .dataframe thead th {\n",
       "        text-align: right;\n",
       "    }\n",
       "</style>\n",
       "<table border=\"1\" class=\"dataframe\">\n",
       "  <thead>\n",
       "    <tr style=\"text-align: right;\">\n",
       "      <th></th>\n",
       "      <th>name</th>\n",
       "      <th>last_name</th>\n",
       "      <th>address</th>\n",
       "    </tr>\n",
       "  </thead>\n",
       "  <tbody>\n",
       "    <tr>\n",
       "      <th>0</th>\n",
       "      <td>John</td>\n",
       "      <td>John</td>\n",
       "      <td>Ohio</td>\n",
       "    </tr>\n",
       "    <tr>\n",
       "      <th>1</th>\n",
       "      <td>Jack</td>\n",
       "      <td>Jacky</td>\n",
       "      <td>CA</td>\n",
       "    </tr>\n",
       "    <tr>\n",
       "      <th>2</th>\n",
       "      <td>Sarah</td>\n",
       "      <td>Sarah2</td>\n",
       "      <td>MI</td>\n",
       "    </tr>\n",
       "    <tr>\n",
       "      <th>3</th>\n",
       "      <td>Ben</td>\n",
       "      <td>Benjamin</td>\n",
       "      <td>WA</td>\n",
       "    </tr>\n",
       "    <tr>\n",
       "      <th>4</th>\n",
       "      <td>Jennifer</td>\n",
       "      <td>Jen</td>\n",
       "      <td>WI</td>\n",
       "    </tr>\n",
       "    <tr>\n",
       "      <th>5</th>\n",
       "      <td>Ben</td>\n",
       "      <td>Ben</td>\n",
       "      <td>MN</td>\n",
       "    </tr>\n",
       "  </tbody>\n",
       "</table>\n",
       "</div>"
      ],
      "text/plain": [
       "       name last_name address\n",
       "0      John      John    Ohio\n",
       "1      Jack     Jacky      CA\n",
       "2     Sarah    Sarah2      MI\n",
       "3       Ben  Benjamin      WA\n",
       "4  Jennifer       Jen      WI\n",
       "5       Ben       Ben      MN"
      ]
     },
     "execution_count": 6,
     "metadata": {},
     "output_type": "execute_result"
    }
   ],
   "source": [
    "import pandas as pd\n",
    "\n",
    "member_dic = {'name':['John', 'Jack', 'Sarah', 'Ben', 'Jennifer', 'Ben'],\n",
    "              'last_name':['John', 'Jacky', 'Sarah2', 'Benjamin', 'Jen', 'Ben'],\n",
    "              'address':['Ohio', 'CA', 'MI', 'WA', 'WI', 'MN']}\n",
    "df_members_info=pd.DataFrame(member_dic)\n",
    "df_members_info"
   ]
  },
  {
   "cell_type": "code",
   "execution_count": 7,
   "id": "8ce84de0-b9a8-49c8-821a-2b17c3fc0972",
   "metadata": {
    "tags": []
   },
   "outputs": [
    {
     "data": {
      "text/html": [
       "<div>\n",
       "<style scoped>\n",
       "    .dataframe tbody tr th:only-of-type {\n",
       "        vertical-align: middle;\n",
       "    }\n",
       "\n",
       "    .dataframe tbody tr th {\n",
       "        vertical-align: top;\n",
       "    }\n",
       "\n",
       "    .dataframe thead th {\n",
       "        text-align: right;\n",
       "    }\n",
       "</style>\n",
       "<table border=\"1\" class=\"dataframe\">\n",
       "  <thead>\n",
       "    <tr style=\"text-align: right;\">\n",
       "      <th></th>\n",
       "      <th>company_name</th>\n",
       "      <th>name</th>\n",
       "      <th>last_name</th>\n",
       "      <th>position</th>\n",
       "      <th>salary</th>\n",
       "    </tr>\n",
       "  </thead>\n",
       "  <tbody>\n",
       "    <tr>\n",
       "      <th>0</th>\n",
       "      <td>FBA</td>\n",
       "      <td>John</td>\n",
       "      <td>John</td>\n",
       "      <td>Operator</td>\n",
       "      <td>120000</td>\n",
       "    </tr>\n",
       "    <tr>\n",
       "      <th>1</th>\n",
       "      <td>MSFTA</td>\n",
       "      <td>Jack</td>\n",
       "      <td>Jacky</td>\n",
       "      <td>Software Engineer</td>\n",
       "      <td>180000</td>\n",
       "    </tr>\n",
       "    <tr>\n",
       "      <th>2</th>\n",
       "      <td>TSx</td>\n",
       "      <td>Sarah</td>\n",
       "      <td>Sarah2</td>\n",
       "      <td>Technician</td>\n",
       "      <td>200000</td>\n",
       "    </tr>\n",
       "    <tr>\n",
       "      <th>3</th>\n",
       "      <td>MSFTA</td>\n",
       "      <td>Ben</td>\n",
       "      <td>Benjamin</td>\n",
       "      <td>Software Engineer</td>\n",
       "      <td>100000</td>\n",
       "    </tr>\n",
       "    <tr>\n",
       "      <th>4</th>\n",
       "      <td>GOOGA</td>\n",
       "      <td>Jennifer</td>\n",
       "      <td>Jen</td>\n",
       "      <td>Data Scientist</td>\n",
       "      <td>300000</td>\n",
       "    </tr>\n",
       "    <tr>\n",
       "      <th>5</th>\n",
       "      <td>AMZ</td>\n",
       "      <td>Ben</td>\n",
       "      <td>Ben</td>\n",
       "      <td>IT technician</td>\n",
       "      <td>120000</td>\n",
       "    </tr>\n",
       "  </tbody>\n",
       "</table>\n",
       "</div>"
      ],
      "text/plain": [
       "  company_name      name last_name           position  salary\n",
       "0          FBA      John      John           Operator  120000\n",
       "1        MSFTA      Jack     Jacky  Software Engineer  180000\n",
       "2          TSx     Sarah    Sarah2         Technician  200000\n",
       "3        MSFTA       Ben  Benjamin  Software Engineer  100000\n",
       "4        GOOGA  Jennifer       Jen     Data Scientist  300000\n",
       "5          AMZ       Ben       Ben      IT technician  120000"
      ]
     },
     "execution_count": 7,
     "metadata": {},
     "output_type": "execute_result"
    }
   ],
   "source": [
    "company_dic = {\n",
    "            'company_name':['FBA', 'MSFTA', 'TSx', 'MSFTA', 'GOOGA', 'AMZ'],\n",
    "            'name':['John', 'Jack', 'Sarah', 'Ben', 'Jennifer', 'Ben'],\n",
    "            'last_name':['John', 'Jacky', 'Sarah2', 'Benjamin', 'Jen', 'Ben'],\n",
    "            'position':['Operator', 'Software Engineer', 'Technician', 'Software Engineer', 'Data Scientist', 'IT technician'],\n",
    "            'salary':['120000', '180000', '200000', '100000', '300000', '120000']\n",
    "              }\n",
    "df_company_info = pd.DataFrame(company_dic)\n",
    "df_company_info"
   ]
  },
  {
   "cell_type": "code",
   "execution_count": 8,
   "id": "1f20b46d-9408-4db9-b004-d314ed81c174",
   "metadata": {
    "tags": []
   },
   "outputs": [
    {
     "name": "stdout",
     "output_type": "stream",
     "text": [
      "inserting this member:  John Ohio\n",
      "1 The records are inserted, with this id 1\n",
      "inserting this member:  Jack CA\n",
      "1 The records are inserted, with this id 2\n",
      "inserting this member:  Sarah MI\n",
      "1 The records are inserted, with this id 3\n",
      "inserting this member:  Ben WA\n",
      "1 The records are inserted, with this id 4\n",
      "inserting this member:  Jennifer WI\n",
      "1 The records are inserted, with this id 5\n",
      "inserting this member:  Ben MN\n",
      "1 The records are inserted, with this id 6\n",
      "insert this information: FBA, John, John, Operator, 120000\n",
      "1 The records are inserted, with this id 1\n",
      "insert this information: MSFTA, Jack, Jacky, Software Engineer, 180000\n",
      "1 The records are inserted, with this id 2\n",
      "insert this information: TSx, Sarah, Sarah2, Technician, 200000\n",
      "1 The records are inserted, with this id 3\n",
      "insert this information: MSFTA, Ben, Benjamin, Software Engineer, 100000\n",
      "1 The records are inserted, with this id 4\n",
      "insert this information: GOOGA, Jennifer, Jen, Data Scientist, 300000\n",
      "1 The records are inserted, with this id 5\n",
      "insert this information: AMZ, Ben, Ben, IT technician, 120000\n",
      "1 The records are inserted, with this id 6\n"
     ]
    }
   ],
   "source": [
    "for idx in df_members_info.index:\n",
    "    \n",
    "    name=df_members_info.loc[idx, 'name']\n",
    "    last_name =df_members_info.loc[idx, 'last_name']\n",
    "    address=df_members_info.loc[idx, 'address']\n",
    "    \n",
    "    print('inserting this member: ', name, address)\n",
    "    \n",
    "    db_name = 'test'\n",
    "    insert_members_info(db_name, name, last_name, address)\n",
    "    \n",
    "for idx in df_company_info.index:\n",
    "    company_name = df_company_info.loc[idx, 'company_name']\n",
    "    name = df_company_info.loc[idx, 'name']\n",
    "    last_name = df_company_info.loc[idx, 'last_name']\n",
    "    position = df_company_info.loc[idx, 'position']\n",
    "    salary = df_company_info.loc[idx, 'salary']\n",
    "    print(f'insert this information: {company_name}, {name}, {last_name}, {position}, {salary}')\n",
    "    db_name='test'\n",
    "    insert_company_info(db_name, company_name, name, last_name, position, int(salary))"
   ]
  },
  {
   "cell_type": "code",
   "execution_count": 9,
   "id": "31d14d21-ce7a-4421-bec2-aa4f2a3eb2b4",
   "metadata": {
    "tags": []
   },
   "outputs": [],
   "source": [
    "def fetch_member_tabel(db_name):\n",
    "    \n",
    "    mydb=mysql.connector.connect(\n",
    "                                host='localhost',\n",
    "                                user='user',\n",
    "                                password='password',\n",
    "                                database=db_name\n",
    "                                )\n",
    "    cursor=mydb.cursor()\n",
    "    \n",
    "    try:\n",
    "        cursor.execute(\"SELECT * FROM members\")\n",
    "        result = cursor.fetchall()\n",
    "        df=pd.DataFrame(result)\n",
    "        return df\n",
    "    except:\n",
    "        print('The members table does not exist in: ', db_name, ' database')"
   ]
  },
  {
   "cell_type": "code",
   "execution_count": 10,
   "id": "be4e5d83-896a-47c7-8bb6-2715f7a802d1",
   "metadata": {
    "tags": []
   },
   "outputs": [
    {
     "data": {
      "text/html": [
       "<div>\n",
       "<style scoped>\n",
       "    .dataframe tbody tr th:only-of-type {\n",
       "        vertical-align: middle;\n",
       "    }\n",
       "\n",
       "    .dataframe tbody tr th {\n",
       "        vertical-align: top;\n",
       "    }\n",
       "\n",
       "    .dataframe thead th {\n",
       "        text-align: right;\n",
       "    }\n",
       "</style>\n",
       "<table border=\"1\" class=\"dataframe\">\n",
       "  <thead>\n",
       "    <tr style=\"text-align: right;\">\n",
       "      <th></th>\n",
       "      <th>0</th>\n",
       "      <th>1</th>\n",
       "      <th>2</th>\n",
       "      <th>3</th>\n",
       "    </tr>\n",
       "  </thead>\n",
       "  <tbody>\n",
       "    <tr>\n",
       "      <th>0</th>\n",
       "      <td>1</td>\n",
       "      <td>John</td>\n",
       "      <td>John</td>\n",
       "      <td>Ohio</td>\n",
       "    </tr>\n",
       "    <tr>\n",
       "      <th>1</th>\n",
       "      <td>2</td>\n",
       "      <td>Jack</td>\n",
       "      <td>Jacky</td>\n",
       "      <td>CA</td>\n",
       "    </tr>\n",
       "    <tr>\n",
       "      <th>2</th>\n",
       "      <td>3</td>\n",
       "      <td>Sarah</td>\n",
       "      <td>Sarah2</td>\n",
       "      <td>MI</td>\n",
       "    </tr>\n",
       "    <tr>\n",
       "      <th>3</th>\n",
       "      <td>4</td>\n",
       "      <td>Ben</td>\n",
       "      <td>Benjamin</td>\n",
       "      <td>WA</td>\n",
       "    </tr>\n",
       "    <tr>\n",
       "      <th>4</th>\n",
       "      <td>5</td>\n",
       "      <td>Jennifer</td>\n",
       "      <td>Jen</td>\n",
       "      <td>WI</td>\n",
       "    </tr>\n",
       "    <tr>\n",
       "      <th>5</th>\n",
       "      <td>6</td>\n",
       "      <td>Ben</td>\n",
       "      <td>Ben</td>\n",
       "      <td>MN</td>\n",
       "    </tr>\n",
       "  </tbody>\n",
       "</table>\n",
       "</div>"
      ],
      "text/plain": [
       "   0         1         2     3\n",
       "0  1      John      John  Ohio\n",
       "1  2      Jack     Jacky    CA\n",
       "2  3     Sarah    Sarah2    MI\n",
       "3  4       Ben  Benjamin    WA\n",
       "4  5  Jennifer       Jen    WI\n",
       "5  6       Ben       Ben    MN"
      ]
     },
     "execution_count": 10,
     "metadata": {},
     "output_type": "execute_result"
    }
   ],
   "source": [
    "fetch_member_tabel('test')"
   ]
  },
  {
   "cell_type": "code",
   "execution_count": 11,
   "id": "73b2613e-3751-408b-bce6-8fa681f159a5",
   "metadata": {},
   "outputs": [
    {
     "name": "stdout",
     "output_type": "stream",
     "text": [
      "members with addresses end with A\n",
      "(2, 'Jack', 'Jacky', 'CA')\n",
      "(4, 'Ben', 'Benjamin', 'WA')\n"
     ]
    }
   ],
   "source": [
    "mydb=mysql.connector.connect(\n",
    "                                host='localhost',\n",
    "                                user='user',\n",
    "                                password='password',\n",
    "                                database='test'\n",
    "                                )\n",
    "cursor=mydb.cursor()\n",
    "\n",
    "sql = \"SELECT * FROM members WHERE address like '%A'\"\n",
    "cursor.execute(sql)\n",
    "results=cursor.fetchall()\n",
    "\n",
    "print('members with addresses end with A')\n",
    "for i in results:\n",
    "    print(i)"
   ]
  },
  {
   "cell_type": "code",
   "execution_count": null,
   "id": "da4413ed-7f55-49a6-95c1-1c883792094f",
   "metadata": {
    "tags": []
   },
   "outputs": [],
   "source": [
    "def delete_member_info(db_name, member_name, member_last_name, member_address):\n",
    "    \n",
    "    mydb=mysql.connector.connect(\n",
    "                                host='localhost',\n",
    "                                user='user',\n",
    "                                password='password',\n",
    "                                database=db_name\n",
    "                                )\n",
    "    cursor=mydb.cursor()\n",
    "    \n",
    "    print(f'deleting the member: {member_name} with this address: {member_address}')\n",
    "    \n",
    "    try:\n",
    "        sql1 = \"SELECT id FROM members where name=%s and address=%s\"\n",
    "        cursor.execute(sql1, (member_name, member_address))\n",
    "        result = cursor.fetchall()\n",
    "        print(f\"{result} id record deleted\")\n",
    "        \n",
    "        sql2=f\"DELETE from members where name=%s and address=%s\"\n",
    "        cursor.execute(sql2, (member_name, member_last_name, member_address))\n",
    "        mydb.commit()\n",
    "    \n",
    "    except:\n",
    "        print(f'The name: {member_name}, last name: {member_last_name} and address:{member_address} do not exist in members table')"
   ]
  },
  {
   "cell_type": "code",
   "execution_count": null,
   "id": "305db9be-3427-4a59-b840-ff39299eb326",
   "metadata": {
    "tags": []
   },
   "outputs": [],
   "source": [
    "delete_member_info('test', 'Ben','', 'WA')"
   ]
  },
  {
   "cell_type": "code",
   "execution_count": null,
   "id": "956b0491-0034-4bcd-9537-3532c0fcd623",
   "metadata": {},
   "outputs": [],
   "source": [
    "insert_members_info('test','Ben', 'WA')"
   ]
  },
  {
   "cell_type": "code",
   "execution_count": null,
   "id": "e766343c-8a12-4324-82f4-6a1306be20f1",
   "metadata": {
    "tags": []
   },
   "outputs": [],
   "source": [
    "def update_member_info(db_name, name, old_address, new_address):\n",
    "    \n",
    "    mydb=mysql.connector.connect(\n",
    "                                host='localhost',\n",
    "                                user='user',\n",
    "                                password='password',\n",
    "                                database=db_name\n",
    "                                )\n",
    "    cursor=mydb.cursor()\n",
    "    \n",
    "    sql=\"update members set address=%s where address=%s and name=%s\"\n",
    "    vals=(new_address, old_address, name)\n",
    "    cursor.execute(sql, vals)\n",
    "    \n",
    "    mydb.commit()\n",
    "    print(f'member:{name} address is changed from {old_address} to {new_address}\\n')\n",
    "    print(cursor.rowcount, \"The records are inserted, with this id\", cursor.lastrowid)"
   ]
  },
  {
   "cell_type": "code",
   "execution_count": null,
   "id": "33e6de55-bffa-4679-bf84-3bb7c867d342",
   "metadata": {
    "tags": []
   },
   "outputs": [],
   "source": [
    "update_member_info('test','Ben', 'WA', 'CA')"
   ]
  },
  {
   "cell_type": "code",
   "execution_count": 16,
   "id": "f1ca822e-5313-4957-bb9c-932fb305a1a1",
   "metadata": {
    "tags": []
   },
   "outputs": [],
   "source": [
    "def join_members_companies_tables(db_name):\n",
    "    \n",
    "    mydb=mysql.connector.connect(\n",
    "        host='localhost',\n",
    "        user='user',\n",
    "        password='password',\n",
    "        database=db_name\n",
    "        )\n",
    "\n",
    "    cursor=mydb.cursor()\n",
    "    \n",
    "    sql=\"select mem.name as name, mem.last_name as last_name, mem.address as home_address, comp.company_name as company_name, comp.position as member_position, comp.salary as member_salary\\\n",
    "        from members as mem\\\n",
    "        inner join companies as comp\\\n",
    "        on mem.name=comp.name and mem.last_name=comp.last_name\"\n",
    "    \n",
    "    cursor.execute(sql)\n",
    "    results=cursor.fetchall()\n",
    "    #mydb.commit()\n",
    "    df=pd.DataFrame(results, columns=['name', 'last_name', 'state', 'company_name', 'job', 'salary'])\n",
    "    return df\n",
    "     "
   ]
  },
  {
   "cell_type": "code",
   "execution_count": 17,
   "id": "1c858b35-179a-4f7b-9157-fa9df3439088",
   "metadata": {
    "tags": []
   },
   "outputs": [
    {
     "data": {
      "text/html": [
       "<div>\n",
       "<style scoped>\n",
       "    .dataframe tbody tr th:only-of-type {\n",
       "        vertical-align: middle;\n",
       "    }\n",
       "\n",
       "    .dataframe tbody tr th {\n",
       "        vertical-align: top;\n",
       "    }\n",
       "\n",
       "    .dataframe thead th {\n",
       "        text-align: right;\n",
       "    }\n",
       "</style>\n",
       "<table border=\"1\" class=\"dataframe\">\n",
       "  <thead>\n",
       "    <tr style=\"text-align: right;\">\n",
       "      <th></th>\n",
       "      <th>name</th>\n",
       "      <th>last_name</th>\n",
       "      <th>state</th>\n",
       "      <th>company_name</th>\n",
       "      <th>job</th>\n",
       "      <th>salary</th>\n",
       "    </tr>\n",
       "  </thead>\n",
       "  <tbody>\n",
       "    <tr>\n",
       "      <th>0</th>\n",
       "      <td>John</td>\n",
       "      <td>John</td>\n",
       "      <td>Ohio</td>\n",
       "      <td>FBA</td>\n",
       "      <td>Operator</td>\n",
       "      <td>120000</td>\n",
       "    </tr>\n",
       "    <tr>\n",
       "      <th>1</th>\n",
       "      <td>Jack</td>\n",
       "      <td>Jacky</td>\n",
       "      <td>CA</td>\n",
       "      <td>MSFTA</td>\n",
       "      <td>Software Engineer</td>\n",
       "      <td>180000</td>\n",
       "    </tr>\n",
       "    <tr>\n",
       "      <th>2</th>\n",
       "      <td>Sarah</td>\n",
       "      <td>Sarah2</td>\n",
       "      <td>MI</td>\n",
       "      <td>TSx</td>\n",
       "      <td>Technician</td>\n",
       "      <td>200000</td>\n",
       "    </tr>\n",
       "    <tr>\n",
       "      <th>3</th>\n",
       "      <td>Ben</td>\n",
       "      <td>Benjamin</td>\n",
       "      <td>WA</td>\n",
       "      <td>MSFTA</td>\n",
       "      <td>Software Engineer</td>\n",
       "      <td>100000</td>\n",
       "    </tr>\n",
       "    <tr>\n",
       "      <th>4</th>\n",
       "      <td>Jennifer</td>\n",
       "      <td>Jen</td>\n",
       "      <td>WI</td>\n",
       "      <td>GOOGA</td>\n",
       "      <td>Data Scientist</td>\n",
       "      <td>300000</td>\n",
       "    </tr>\n",
       "    <tr>\n",
       "      <th>5</th>\n",
       "      <td>Ben</td>\n",
       "      <td>Ben</td>\n",
       "      <td>MN</td>\n",
       "      <td>AMZ</td>\n",
       "      <td>IT technician</td>\n",
       "      <td>120000</td>\n",
       "    </tr>\n",
       "  </tbody>\n",
       "</table>\n",
       "</div>"
      ],
      "text/plain": [
       "       name last_name state company_name                job  salary\n",
       "0      John      John  Ohio          FBA           Operator  120000\n",
       "1      Jack     Jacky    CA        MSFTA  Software Engineer  180000\n",
       "2     Sarah    Sarah2    MI          TSx         Technician  200000\n",
       "3       Ben  Benjamin    WA        MSFTA  Software Engineer  100000\n",
       "4  Jennifer       Jen    WI        GOOGA     Data Scientist  300000\n",
       "5       Ben       Ben    MN          AMZ      IT technician  120000"
      ]
     },
     "execution_count": 17,
     "metadata": {},
     "output_type": "execute_result"
    }
   ],
   "source": [
    "join_members_companies_tables('test')"
   ]
  }
 ],
 "metadata": {
  "kernelspec": {
   "display_name": "Python 3 (ipykernel)",
   "language": "python",
   "name": "python3"
  },
  "language_info": {
   "codemirror_mode": {
    "name": "ipython",
    "version": 3
   },
   "file_extension": ".py",
   "mimetype": "text/x-python",
   "name": "python",
   "nbconvert_exporter": "python",
   "pygments_lexer": "ipython3",
   "version": "3.10.6"
  }
 },
 "nbformat": 4,
 "nbformat_minor": 5
}
